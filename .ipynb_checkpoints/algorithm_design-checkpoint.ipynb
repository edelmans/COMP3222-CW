{
 "cells": [
  {
   "cell_type": "code",
   "execution_count": null,
   "metadata": {},
   "outputs": [],
   "source": [
    "262987209144160257\t\"In the driving rain of Hurricane Sandy, soldiers continue to stand guard at the Tomb of the Unknown Soldier http://t.co/amV005ZP\t350583423\tsandyA_fake_31\tDancerCJW\tMon Oct 29 18:40:11 +0000 2012\tfake\n",
    "263057124198871040\t@MonicaCrowley @claytonwagar: Tomb of the Unknowns during sandy http://t.co/punXpb7q”&lt;---pic has to be fake!  O said we don't use bayonets!\t872436710\tsandyA_fake_02\tErikConatser\tMon Oct 29 23:18:00 +0000 2012\tfake\n",
    "262983017616773120\tSoldiers at the Tomb of the Unknown Soldier this morning during Sandy's wrath. http://t.co/PQtwjDXc\t41662611\tsandyA_fake_31\tmweir1\tMon Oct 29 18:23:32 +0000 2012\tfake\n",
    "262976764941316096\t«@OMGFacts Amazing soldiers standing at the Tomb of the Unknown Soldier during hurricane Sandy. http://t.co/leQT6mG0»\t95248708\tsandyA_fake_03\tscottssargent\tMon Oct 29 17:58:41 +0000 2012\tfake\n",
    "263051485196218368\t“@LoMendez12: Respect to these soldiers,despite hurricane sandy still remain protecting the sacred tomb of the unknown http://t.co/zW8wij7M”\t352702771\tsandyA_fake_02\tMfranklin033\tMon Oct 29 22:55:35 +0000 2012\tfake\n",
    "262972514332971011\tSoldiers standing strong at the Tomb during hurricane Sandy.  75 years of tradition never broken! http://t.co/20FDU55v\t245841537\tsandyA_fake_31\tfostersoriginal\tMon Oct 29 17:41:47 +0000 2012\tfake\n",
    "263028490163609600\t“@DS22_ERA: This is awesome. The tomb of the unknown soldier is still being guarded even through Hurricane Sandy http://t.co/RgQlFDzP”\t387780625\tsandyA_fake_01\tCallieHeisler\tMon Oct 29 21:24:13 +0000 2012\tfake\n",
    "262972700530733057\t\"Tomb of the unknown soldier remains guarded through Hurricane Sandy\" #dedication#respect#military#strong#am http://t.co/KhRpr6nO\t158602370\tsandyA_fake_49\tLanaCeleen\tMon Oct 29 17:42:32 +0000 2012\tfake\n",
    "263302551548616704\tEven with hurricane sandy these men will re"
   ]
  }
 ],
 "metadata": {
  "kernelspec": {
   "display_name": "Python 3",
   "language": "python",
   "name": "python3"
  },
  "language_info": {
   "codemirror_mode": {
    "name": "ipython",
    "version": 3
   },
   "file_extension": ".py",
   "mimetype": "text/x-python",
   "name": "python",
   "nbconvert_exporter": "python",
   "pygments_lexer": "ipython3",
   "version": "3.7.7"
  }
 },
 "nbformat": 4,
 "nbformat_minor": 4
}
